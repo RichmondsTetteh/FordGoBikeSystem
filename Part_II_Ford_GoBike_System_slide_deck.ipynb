{
 "cells": [
  {
   "cell_type": "markdown",
   "metadata": {
    "slideshow": {
     "slide_type": "slide"
    }
   },
   "source": [
    "# Part II - Ford GoBike System \n",
    "## by Richmond Tetteh"
   ]
  },
  {
   "cell_type": "markdown",
   "metadata": {
    "slideshow": {
     "slide_type": "slide"
    }
   },
   "source": [
    ">**Before you start**: You must have the README.md file ready that include a summary of main findings that reflects on the steps taken during the data exploration (Part I notebook). The README.md file should also describes the key insights that will be conveyed by the explanatory slide deck (Part II  outcome)\n",
    "\n",
    "\n",
    "\n",
    "## Investigation Overview\n",
    "\n",
    "\n",
    "> Distribution of the log duration of bike ride\n",
    "\n",
    "> Distribution of the user type vs member gender\n",
    "\n",
    ">  Bar plot of durations, user_type and member_gende\n",
    "\n",
    ">  Bar plot of durations, user_type and member_gender\n",
    "\n",
    "\n",
    "\n",
    "## Dataset Overview\n",
    "\n",
    ">  The dataset I used was the Ford GoBike System Data. There were initially 183,412 entries in the dataset with 16 features (duration_sec, start_time, end_time, start_station_id, start_station_name, start_station_latitude, start_station_longitude, end_station_id, end_station_name, end_station_latitude, end_station_longitude, bike_id, user_type, member_birth_year, member_gender  and bike_share_for_all_trip) but after assessing and cleaning my dataset there are 174952 entries with 16 features in the dataset. Most variables are numeric in nature, but the variables start_time, end_time, start_station_name, end_station_name, member_gender and bike_share_for_all_trip are non-numeric.\n"
   ]
  },
  {
   "cell_type": "code",
   "execution_count": 1,
   "metadata": {
    "slideshow": {
     "slide_type": "skip"
    }
   },
   "outputs": [],
   "source": [
    "# import all packages and set plots to be embedded inline\n",
    "import numpy as np\n",
    "import pandas as pd\n",
    "import matplotlib.pyplot as plt\n",
    "import seaborn as sb\n",
    "\n",
    "%matplotlib inline\n",
    "\n",
    "# suppress warnings from final output\n",
    "import warnings\n",
    "warnings.simplefilter(\"ignore\")"
   ]
  },
  {
   "cell_type": "code",
   "execution_count": 2,
   "metadata": {
    "slideshow": {
     "slide_type": "skip"
    }
   },
   "outputs": [],
   "source": [
    "# load in the dataset into a pandas dataframe\n",
    "bike_data = pd.read_csv('201902-fordgobike-tripdata.csv')"
   ]
  },
  {
   "cell_type": "code",
   "execution_count": 3,
   "metadata": {
    "slideshow": {
     "slide_type": "skip"
    }
   },
   "outputs": [],
   "source": [
    "# Cleaning Data\n",
    "# Make copies of original pieces of data\n",
    "bike_data_clean = bike_data.copy()"
   ]
  },
  {
   "cell_type": "code",
   "execution_count": 4,
   "metadata": {
    "slideshow": {
     "slide_type": "skip"
    }
   },
   "outputs": [
    {
     "data": {
      "text/plain": [
       "False    174952\n",
       "Name: start_station_name, dtype: int64"
      ]
     },
     "execution_count": 4,
     "metadata": {},
     "output_type": "execute_result"
    }
   ],
   "source": [
    "#  Issue #1: NaN values in Data to be removed (member_gender, member_birth_year and start_station_name columns)\n",
    "\n",
    "# Define: \n",
    "#Remove the rows that have have associating NaN values in the member_gender, member_birth_year and start_station_name  columns.\n",
    "\n",
    "# Code: \n",
    "bike_data_clean = bike_data_clean.dropna().reset_index(drop=True)\n",
    "\n",
    "# Test:\n",
    "bike_data_clean.start_station_name.isna().value_counts()"
   ]
  },
  {
   "cell_type": "code",
   "execution_count": 5,
   "metadata": {
    "slideshow": {
     "slide_type": "skip"
    }
   },
   "outputs": [
    {
     "name": "stdout",
     "output_type": "stream",
     "text": [
      "<class 'pandas.core.frame.DataFrame'>\n",
      "RangeIndex: 174952 entries, 0 to 174951\n",
      "Data columns (total 16 columns):\n",
      "duration_sec               174952 non-null int64\n",
      "start_time                 174952 non-null datetime64[ns]\n",
      "end_time                   174952 non-null datetime64[ns]\n",
      "start_station_id           174952 non-null float64\n",
      "start_station_name         174952 non-null object\n",
      "start_station_latitude     174952 non-null float64\n",
      "start_station_longitude    174952 non-null float64\n",
      "end_station_id             174952 non-null float64\n",
      "end_station_name           174952 non-null object\n",
      "end_station_latitude       174952 non-null float64\n",
      "end_station_longitude      174952 non-null float64\n",
      "bike_id                    174952 non-null int64\n",
      "user_type                  174952 non-null object\n",
      "member_birth_year          174952 non-null float64\n",
      "member_gender              174952 non-null object\n",
      "bike_share_for_all_trip    174952 non-null object\n",
      "dtypes: datetime64[ns](2), float64(7), int64(2), object(5)\n",
      "memory usage: 21.4+ MB\n"
     ]
    }
   ],
   "source": [
    "#  Issue #2: Erroneous datatypes (start_time and end_time)\n",
    "\n",
    "# Define: \n",
    "#Convert start_time and end_time to datatype integer\n",
    "\n",
    "# Code: \n",
    "# To datatime\n",
    "bike_data_clean.start_time = pd.to_datetime(bike_data_clean.start_time)\n",
    "bike_data_clean.end_time = pd.to_datetime(bike_data_clean.end_time)\n",
    "                                            \n",
    "\n",
    "# Test:\n",
    "#start_time and end_time should be in datetime\n",
    "bike_data_clean.info()"
   ]
  },
  {
   "cell_type": "code",
   "execution_count": 6,
   "metadata": {
    "slideshow": {
     "slide_type": "skip"
    }
   },
   "outputs": [],
   "source": [
    "# Storing Data\n",
    "# Save gathered, assessed, and cleaned master dataset to a CSV file named \"bike_archive_master.csv.\n",
    "\n",
    "bike_data_clean.to_csv('bike_archive_master', index = False)"
   ]
  },
  {
   "cell_type": "code",
   "execution_count": 7,
   "metadata": {
    "slideshow": {
     "slide_type": "skip"
    }
   },
   "outputs": [],
   "source": [
    "# load in the dataset into a pandas dataframe\n",
    "bike = pd.read_csv('bike_archive_master')"
   ]
  },
  {
   "cell_type": "markdown",
   "metadata": {
    "slideshow": {
     "slide_type": "slide"
    }
   },
   "source": [
    "## Distribution of the log duration of bike ride\n",
    "\n",
    "> Under a log scale, I observed that the data for the duration is roughly unimodal with a large peak somewhere between 400 and 600. The duration distribution also seems to just cut off at its maximum, rather than declining in a smooth tail."
   ]
  },
  {
   "cell_type": "code",
   "execution_count": 8,
   "metadata": {
    "slideshow": {
     "slide_type": "subslide"
    }
   },
   "outputs": [
    {
     "data": {
      "image/png": "[encoded data removed]",
      "text/plain": [
       "<matplotlib.figure.Figure at 0x7f3bc5f27f28>"
      ]
     },
     "metadata": {
      "needs_background": "light"
     },
     "output_type": "display_data"
    }
   ],
   "source": [
    "plt.figure(figsize=[16,5])\n",
    "# Get the ticks for bins between [0 - maximum weight]\n",
    "bins = 10 ** np.arange(-1, 5+0.1, 0.1)\n",
    "\n",
    "# Generate the x-ticks you want to apply\n",
    "ticks = [0.1, 0.5, 1, 5, 10, 50, 100, 500, 1000,5000,10000,50000,100000]\n",
    "# Convert ticks into string values, to be displaye dlong the x-axis\n",
    "labels = ['{}'.format(v) for v in ticks]\n",
    "\n",
    "# Plot the histogram\n",
    "plt.hist(data=bike, x='duration_sec', bins=bins);\n",
    "plt.title('Distribution of the log duration of bike ride')\n",
    "plt.xlabel('Log_Duration (s)')\n",
    "plt.ylabel('Count')\n",
    "\n",
    "# The argument in the xscale() represents the axis scale type to apply.\n",
    "plt.xscale('log')\n",
    "\n",
    "# Apply x-ticks\n",
    "plt.xticks(ticks, labels);"
   ]
  },
  {
   "cell_type": "markdown",
   "metadata": {
    "slideshow": {
     "slide_type": "slide"
    }
   },
   "source": [
    "## Distribution  of the user type vs member gender\n",
    "\n",
    "> I observed that the subscribers have the most members with the highest count spread across the various genders. The male gender is the most dominating gender by count or frequency for both the user types followed by the female gender and the other gender."
   ]
  },
  {
   "cell_type": "code",
   "execution_count": 9,
   "metadata": {
    "slideshow": {
     "slide_type": "subslide"
    }
   },
   "outputs": [
    {
     "data": {
      "image/png": "[encoded data removed]",
      "text/plain": [
       "<matplotlib.figure.Figure at 0x7f3bc17cf588>"
      ]
     },
     "metadata": {
      "needs_background": "light"
     },
     "output_type": "display_data"
    }
   ],
   "source": [
    "plt.figure(figsize = [8, 8])\n",
    "\n",
    "sb.countplot(data = bike, x = 'user_type', hue = 'member_gender', palette = 'Blues');\n",
    "plt.title('Distribution  of the user type vs member gender')\n",
    "plt.xlabel('Type of users')\n",
    "plt.ylabel('Count');\n"
   ]
  },
  {
   "cell_type": "markdown",
   "metadata": {
    "collapsed": true,
    "slideshow": {
     "slide_type": "slide"
    }
   },
   "source": [
    "## Bar plot of durations, user_type and member_gender\n",
    "\n",
    "> I observed that all the genders in the customer category that patronize the bike system record the highest number of duration riding their bike. The other gender have the highest frequency or count for the duration recorded for both the customers and subscribers."
   ]
  },
  {
   "cell_type": "code",
   "execution_count": 10,
   "metadata": {
    "slideshow": {
     "slide_type": "subslide"
    }
   },
   "outputs": [
    {
     "data": {
      "image/png": "[encoded data removed]",
      "text/plain": [
       "<matplotlib.figure.Figure at 0x7f3bc18736d8>"
      ]
     },
     "metadata": {
      "needs_background": "light"
     },
     "output_type": "display_data"
    }
   ],
   "source": [
    "# A clustered bar chart\n",
    "plt.figure(figsize = [7,6])\n",
    "ax = sb.barplot(data = bike, x = 'member_gender', y = 'duration_sec', hue = 'user_type');\n",
    "ax.legend(loc = 8, ncol = 7, framealpha = 1, title = 'user_type');\n",
    "plt.title('Clustered bar chart of duration against gender of members and user type');\n",
    "plt.xlabel('Gender of members')\n",
    "plt.ylabel('Duration (s)');"
   ]
  },
  {
   "cell_type": "markdown",
   "metadata": {
    "slideshow": {
     "slide_type": "slide"
    }
   },
   "source": [
    "## Bar plot  distribution of durations,  member_gender and bike_share_for_all_trip\n",
    "\n",
    "> I observed that the other gender has the highest frequency for the duration spent for riders who share their bike for all trip and those that do not share their bike for all trip. The male gender has the lowest frequency for both riders who share their bike for all trip and those that do not share their bike for all trip. From the graph I also observed that the three gender categories the highest number occuring frequency for those that do not share their ride for all trip is greater than those that do share their bike for all trip.\n",
    "\n"
   ]
  },
  {
   "cell_type": "code",
   "execution_count": 11,
   "metadata": {
    "slideshow": {
     "slide_type": "subslide"
    }
   },
   "outputs": [
    {
     "data": {
      "image/png": "[encoded data removed]",
      "text/plain": [
       "<matplotlib.figure.Figure at 0x7f3bc17b9940>"
      ]
     },
     "metadata": {
      "needs_background": "light"
     },
     "output_type": "display_data"
    }
   ],
   "source": [
    "# A clustered bar chart\n",
    "plt.figure(figsize = [7,6])\n",
    "ax = sb.barplot(data = bike, x = 'member_gender', y = 'duration_sec', hue = 'bike_share_for_all_trip');\n",
    "ax.legend(loc = 8, ncol = 7, framealpha = 1, title = 'bike_share_for_all_trip');\n",
    "plt.title('Clustered bar chart of duration against gender of members and bike sharing for all trips');\n",
    "plt.xlabel('Gender of members')\n",
    "plt.ylabel('Duration (s)');"
   ]
  },
  {
   "cell_type": "markdown",
   "metadata": {
    "slideshow": {
     "slide_type": "skip"
    }
   },
   "source": [
    "### Generate Slideshow\n",
    "Once you're ready to generate your slideshow, use the `jupyter nbconvert` command to generate the HTML slide show.  "
   ]
  },
  {
   "cell_type": "code",
   "execution_count": 12,
   "metadata": {
    "slideshow": {
     "slide_type": "skip"
    }
   },
   "outputs": [
    {
     "name": "stdout",
     "output_type": "stream",
     "text": [
      "/bin/sh: 1: cannot open Part_II_Ford_GoBike_System_slide_deck: No such file\r\n"
     ]
    }
   ],
   "source": [
    "# Use this command if you are running this file in local\n",
    "!jupyter nbconvert <Part_II_Ford_GoBike_System_slide_deck>.ipynb --to slides --post serve --no-input --no-prompt"
   ]
  },
  {
   "cell_type": "markdown",
   "metadata": {
    "slideshow": {
     "slide_type": "skip"
    }
   },
   "source": [
    "> In the classroom workspace, the generated HTML slideshow will be placed in the home folder. \n",
    "\n",
    "> In local machines, the command above should open a tab in your web browser where you can scroll through your presentation. Sub-slides can be accessed by pressing 'down' when viewing its parent slide. Make sure you remove all of the quote-formatted guide notes like this one before you finish your presentation! At last, you can stop the Kernel. "
   ]
  },
  {
   "cell_type": "code",
   "execution_count": null,
   "metadata": {},
   "outputs": [],
   "source": []
  }
 ],
 "metadata": {
  "celltoolbar": "Slideshow",
  "kernelspec": {
   "display_name": "Python 3",
   "language": "python",
   "name": "python3"
  },
  "language_info": {
   "codemirror_mode": {
    "name": "ipython",
    "version": 3
   },
   "file_extension": ".py",
   "mimetype": "text/x-python",
   "name": "python",
   "nbconvert_exporter": "python",
   "pygments_lexer": "ipython3",
   "version": "3.6.3"
  }
 },
 "nbformat": 4,
 "nbformat_minor": 2
}
